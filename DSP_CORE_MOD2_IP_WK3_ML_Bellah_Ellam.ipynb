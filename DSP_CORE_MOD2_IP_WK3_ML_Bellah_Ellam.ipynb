{
  "nbformat": 4,
  "nbformat_minor": 0,
  "metadata": {
    "colab": {
      "name": "DSP-CORE_MOD2_IP_WK3_ML_Bellah Ellam",
      "provenance": [],
      "collapsed_sections": [],
      "authorship_tag": "ABX9TyMC4mpbODeh3dK/pW8WDcHr",
      "include_colab_link": true
    },
    "kernelspec": {
      "name": "python3",
      "display_name": "Python 3"
    },
    "language_info": {
      "name": "python"
    }
  },
  "cells": [
    {
      "cell_type": "markdown",
      "metadata": {
        "id": "view-in-github",
        "colab_type": "text"
      },
      "source": [
        "<a href=\"https://colab.research.google.com/github/therealellam/CORE_ML_WK3/blob/main/DSP_CORE_MOD2_IP_WK3_ML_Bellah_Ellam.ipynb\" target=\"_parent\"><img src=\"https://colab.research.google.com/assets/colab-badge.svg\" alt=\"Open In Colab\"/></a>"
      ]
    },
    {
      "cell_type": "markdown",
      "metadata": {
        "id": "xXuM84OonUNe"
      },
      "source": [
        "# **1. Defining the Question**"
      ]
    },
    {
      "cell_type": "markdown",
      "metadata": {
        "id": "MoU00x2inhId"
      },
      "source": [
        "\n",
        ">  # a) Specifying the Question\n",
        "\n"
      ]
    },
    {
      "cell_type": "markdown",
      "metadata": {
        "id": "for14pTWoE8p"
      },
      "source": [
        "Nairobi Hospital conducted a clinical camp to test for hypothyroidism. The data collected focused on Thyroid patients. Use the healthcare datasets provided to accomplish the following:  \n",
        "\n",
        "Build a model that determines whether or not the patient's symptoms indicate that the patient has hypothyroid.\n",
        "\n",
        "Part 1: Decision trees:\n",
        "- For this section, you should build a model that makes the above prediction. You should not use individual decision trees, rather you should use at least 2 out of the 3 advanced models we have studied: Random forests, Ada boosted trees, and gradient boosted trees.\n",
        "- Try and optimize each of the 2 models, making sure to document how you've set up your hyperparameters.\n",
        "- Identify which of the 2 models you trust most, and use your model to determine which features are most impactful in influencing the prediction\n",
        "- Note that with decision trees, you don't need to do a lot of data cleaning. This will be very different with SVM.\n",
        "\n",
        "Part 2: SVM:\n",
        "\n",
        "- In this section, you may be required to clean the data a little bit so as to make sense of the features.\n",
        "\n",
        "- Document what transformation you've done on the data.\n",
        "\n",
        "- Apply Polynomial, linear and rbf kernel function to build your SVM model and then evaluate their performance and pick the kernel that performs the best. Remember to tune your parameters to improve the performance of your model. To make your life easier, make sure to visualize the models you've created. Use any two features to build the models for this step.\n",
        "\n",
        "Hint: You may want to use decision trees to give you the most preferable features you can use. but also keep in mind that those features might not be suitable for SVM. It might be a good idea to graph them first.\n",
        "\n",
        "-  After getting your best performing kernel, use this kernel together with your tuned parameters and repeat the prediction but this time using additional features. Compare the model you've just created with the 2-features version. "
      ]
    },
    {
      "cell_type": "markdown",
      "metadata": {
        "id": "t5hVCfTqooX1"
      },
      "source": [
        "> # b) Metrics for Success\n",
        "\n"
      ]
    },
    {
      "cell_type": "markdown",
      "metadata": {
        "id": "DK3bb3EzrtdO"
      },
      "source": [
        "Build a model that determines whether or not the patient's symptoms indicate that the patient has hypothyroid."
      ]
    },
    {
      "cell_type": "markdown",
      "metadata": {
        "id": "xRYzt9rCoyDr"
      },
      "source": [
        "> # c) Understanding context"
      ]
    },
    {
      "cell_type": "markdown",
      "metadata": {
        "id": "AYaRb3bCo5qo"
      },
      "source": [
        "Nairobi Hospital conducted a clinical camp to test for hypothyroidism. The data collected focused on Thyroid patients. Use the healthcare datasets provided to accomplish the following:  \n",
        "\n",
        "Build a model that determines whether or not the patient's symptoms indicate that the patient has hypothyroid."
      ]
    },
    {
      "cell_type": "markdown",
      "metadata": {
        "id": "WcS9vYRfqZsX"
      },
      "source": [
        "> # d) Data Relevance"
      ]
    },
    {
      "cell_type": "markdown",
      "metadata": {
        "id": "NUVpV_psqk0Y"
      },
      "source": [
        "The dataset to use for this project can be found by following this link:http://bit.ly/hypothyroid_data. \n",
        "\n",
        "Below is the dataset glossary:\n",
        "\n",
        "Dataset Columns\n",
        "\n",
        "- Age\n",
        "- Sex\n",
        "- on_thyroxine\n",
        "- query_on_thyroxine\n",
        "- on_antithyroid_medicationthyroid_surgery\n",
        "- query_hypothyroid\n",
        "- query_hyperthyroid\n",
        "- pregnant\n",
        "- sick\n",
        "- tumor\n",
        "- lithium\n",
        "- goitre\n",
        "- TSH_measured\n",
        "- TSH\n",
        "- T3_measured\n",
        "- T3\n",
        "- TT4_measured\n",
        "- TT4"
      ]
    },
    {
      "cell_type": "markdown",
      "metadata": {
        "id": "HEb1nTQqGO3T"
      },
      "source": [
        "# **2. Importing Libraries**"
      ]
    },
    {
      "cell_type": "code",
      "metadata": {
        "id": "emBhnkrtGEIi"
      },
      "source": [
        "#We first import python libraries we will use\n",
        "import pandas as pd\n",
        "import numpy as np\n",
        "import seaborn as sns\n",
        "import matplotlib.pyplot as plt"
      ],
      "execution_count": 76,
      "outputs": []
    },
    {
      "cell_type": "markdown",
      "metadata": {
        "id": "mmzK3goiH0ex"
      },
      "source": [
        "# **3. Loading the Dataset**"
      ]
    },
    {
      "cell_type": "code",
      "metadata": {
        "colab": {
          "base_uri": "https://localhost:8080/",
          "height": 224
        },
        "id": "3UpgSMWPH8RI",
        "outputId": "04abdd67-81b8-4571-aac9-18487bc75b61"
      },
      "source": [
        "#Load the Data into a dataframe\n",
        "#The dataset used in this project was provided in the following \n",
        "#url = \"http://bit.ly/hypothyroid_data\" \n",
        "\n",
        "df=pd.read_csv('/content/hypothyroid.csv')\n",
        "\n",
        "#Viewing the first 5 entries\n",
        "df.head()"
      ],
      "execution_count": 77,
      "outputs": [
        {
          "output_type": "execute_result",
          "data": {
            "text/html": [
              "<div>\n",
              "<style scoped>\n",
              "    .dataframe tbody tr th:only-of-type {\n",
              "        vertical-align: middle;\n",
              "    }\n",
              "\n",
              "    .dataframe tbody tr th {\n",
              "        vertical-align: top;\n",
              "    }\n",
              "\n",
              "    .dataframe thead th {\n",
              "        text-align: right;\n",
              "    }\n",
              "</style>\n",
              "<table border=\"1\" class=\"dataframe\">\n",
              "  <thead>\n",
              "    <tr style=\"text-align: right;\">\n",
              "      <th></th>\n",
              "      <th>status</th>\n",
              "      <th>age</th>\n",
              "      <th>sex</th>\n",
              "      <th>on_thyroxine</th>\n",
              "      <th>query_on_thyroxine</th>\n",
              "      <th>on_antithyroid_medication</th>\n",
              "      <th>thyroid_surgery</th>\n",
              "      <th>query_hypothyroid</th>\n",
              "      <th>query_hyperthyroid</th>\n",
              "      <th>pregnant</th>\n",
              "      <th>sick</th>\n",
              "      <th>tumor</th>\n",
              "      <th>lithium</th>\n",
              "      <th>goitre</th>\n",
              "      <th>TSH_measured</th>\n",
              "      <th>TSH</th>\n",
              "      <th>T3_measured</th>\n",
              "      <th>T3</th>\n",
              "      <th>TT4_measured</th>\n",
              "      <th>TT4</th>\n",
              "      <th>T4U_measured</th>\n",
              "      <th>T4U</th>\n",
              "      <th>FTI_measured</th>\n",
              "      <th>FTI</th>\n",
              "      <th>TBG_measured</th>\n",
              "      <th>TBG</th>\n",
              "    </tr>\n",
              "  </thead>\n",
              "  <tbody>\n",
              "    <tr>\n",
              "      <th>0</th>\n",
              "      <td>hypothyroid</td>\n",
              "      <td>72</td>\n",
              "      <td>M</td>\n",
              "      <td>f</td>\n",
              "      <td>f</td>\n",
              "      <td>f</td>\n",
              "      <td>f</td>\n",
              "      <td>f</td>\n",
              "      <td>f</td>\n",
              "      <td>f</td>\n",
              "      <td>f</td>\n",
              "      <td>f</td>\n",
              "      <td>f</td>\n",
              "      <td>f</td>\n",
              "      <td>y</td>\n",
              "      <td>30</td>\n",
              "      <td>y</td>\n",
              "      <td>0.60</td>\n",
              "      <td>y</td>\n",
              "      <td>15</td>\n",
              "      <td>y</td>\n",
              "      <td>1.48</td>\n",
              "      <td>y</td>\n",
              "      <td>10</td>\n",
              "      <td>n</td>\n",
              "      <td>?</td>\n",
              "    </tr>\n",
              "    <tr>\n",
              "      <th>1</th>\n",
              "      <td>hypothyroid</td>\n",
              "      <td>15</td>\n",
              "      <td>F</td>\n",
              "      <td>t</td>\n",
              "      <td>f</td>\n",
              "      <td>f</td>\n",
              "      <td>f</td>\n",
              "      <td>f</td>\n",
              "      <td>f</td>\n",
              "      <td>f</td>\n",
              "      <td>f</td>\n",
              "      <td>f</td>\n",
              "      <td>f</td>\n",
              "      <td>f</td>\n",
              "      <td>y</td>\n",
              "      <td>145</td>\n",
              "      <td>y</td>\n",
              "      <td>1.70</td>\n",
              "      <td>y</td>\n",
              "      <td>19</td>\n",
              "      <td>y</td>\n",
              "      <td>1.13</td>\n",
              "      <td>y</td>\n",
              "      <td>17</td>\n",
              "      <td>n</td>\n",
              "      <td>?</td>\n",
              "    </tr>\n",
              "    <tr>\n",
              "      <th>2</th>\n",
              "      <td>hypothyroid</td>\n",
              "      <td>24</td>\n",
              "      <td>M</td>\n",
              "      <td>f</td>\n",
              "      <td>f</td>\n",
              "      <td>f</td>\n",
              "      <td>f</td>\n",
              "      <td>f</td>\n",
              "      <td>f</td>\n",
              "      <td>f</td>\n",
              "      <td>f</td>\n",
              "      <td>f</td>\n",
              "      <td>f</td>\n",
              "      <td>f</td>\n",
              "      <td>y</td>\n",
              "      <td>0</td>\n",
              "      <td>y</td>\n",
              "      <td>0.20</td>\n",
              "      <td>y</td>\n",
              "      <td>4</td>\n",
              "      <td>y</td>\n",
              "      <td>1</td>\n",
              "      <td>y</td>\n",
              "      <td>0</td>\n",
              "      <td>n</td>\n",
              "      <td>?</td>\n",
              "    </tr>\n",
              "    <tr>\n",
              "      <th>3</th>\n",
              "      <td>hypothyroid</td>\n",
              "      <td>24</td>\n",
              "      <td>F</td>\n",
              "      <td>f</td>\n",
              "      <td>f</td>\n",
              "      <td>f</td>\n",
              "      <td>f</td>\n",
              "      <td>f</td>\n",
              "      <td>f</td>\n",
              "      <td>f</td>\n",
              "      <td>f</td>\n",
              "      <td>f</td>\n",
              "      <td>f</td>\n",
              "      <td>f</td>\n",
              "      <td>y</td>\n",
              "      <td>430</td>\n",
              "      <td>y</td>\n",
              "      <td>0.40</td>\n",
              "      <td>y</td>\n",
              "      <td>6</td>\n",
              "      <td>y</td>\n",
              "      <td>1.04</td>\n",
              "      <td>y</td>\n",
              "      <td>6</td>\n",
              "      <td>n</td>\n",
              "      <td>?</td>\n",
              "    </tr>\n",
              "    <tr>\n",
              "      <th>4</th>\n",
              "      <td>hypothyroid</td>\n",
              "      <td>77</td>\n",
              "      <td>M</td>\n",
              "      <td>f</td>\n",
              "      <td>f</td>\n",
              "      <td>f</td>\n",
              "      <td>f</td>\n",
              "      <td>f</td>\n",
              "      <td>f</td>\n",
              "      <td>f</td>\n",
              "      <td>f</td>\n",
              "      <td>f</td>\n",
              "      <td>f</td>\n",
              "      <td>f</td>\n",
              "      <td>y</td>\n",
              "      <td>7.30</td>\n",
              "      <td>y</td>\n",
              "      <td>1.20</td>\n",
              "      <td>y</td>\n",
              "      <td>57</td>\n",
              "      <td>y</td>\n",
              "      <td>1.28</td>\n",
              "      <td>y</td>\n",
              "      <td>44</td>\n",
              "      <td>n</td>\n",
              "      <td>?</td>\n",
              "    </tr>\n",
              "  </tbody>\n",
              "</table>\n",
              "</div>"
            ],
            "text/plain": [
              "        status age sex on_thyroxine  ... FTI_measured FTI TBG_measured TBG\n",
              "0  hypothyroid  72   M            f  ...            y  10            n   ?\n",
              "1  hypothyroid  15   F            t  ...            y  17            n   ?\n",
              "2  hypothyroid  24   M            f  ...            y   0            n   ?\n",
              "3  hypothyroid  24   F            f  ...            y   6            n   ?\n",
              "4  hypothyroid  77   M            f  ...            y  44            n   ?\n",
              "\n",
              "[5 rows x 26 columns]"
            ]
          },
          "metadata": {},
          "execution_count": 77
        }
      ]
    },
    {
      "cell_type": "markdown",
      "metadata": {
        "id": "HcBkieyaKKQt"
      },
      "source": [
        "# **4. Checking the Data**"
      ]
    },
    {
      "cell_type": "code",
      "metadata": {
        "colab": {
          "base_uri": "https://localhost:8080/"
        },
        "id": "fzBa_6BCKPeM",
        "outputId": "afbd3d4f-bdda-4e3a-a97b-93186b7b42b7"
      },
      "source": [
        "# Determining the no. of records in the dataset\n",
        "df.shape"
      ],
      "execution_count": 78,
      "outputs": [
        {
          "output_type": "execute_result",
          "data": {
            "text/plain": [
              "(3163, 26)"
            ]
          },
          "metadata": {},
          "execution_count": 78
        }
      ]
    },
    {
      "cell_type": "code",
      "metadata": {
        "colab": {
          "base_uri": "https://localhost:8080/"
        },
        "id": "aTJ-bTL5KcCG",
        "outputId": "414af21e-3c46-4b2f-e777-76e61cccf123"
      },
      "source": [
        "# Checking whether each column has an appropriate datatype\n",
        "df.dtypes"
      ],
      "execution_count": 79,
      "outputs": [
        {
          "output_type": "execute_result",
          "data": {
            "text/plain": [
              "status                       object\n",
              "age                          object\n",
              "sex                          object\n",
              "on_thyroxine                 object\n",
              "query_on_thyroxine           object\n",
              "on_antithyroid_medication    object\n",
              "thyroid_surgery              object\n",
              "query_hypothyroid            object\n",
              "query_hyperthyroid           object\n",
              "pregnant                     object\n",
              "sick                         object\n",
              "tumor                        object\n",
              "lithium                      object\n",
              "goitre                       object\n",
              "TSH_measured                 object\n",
              "TSH                          object\n",
              "T3_measured                  object\n",
              "T3                           object\n",
              "TT4_measured                 object\n",
              "TT4                          object\n",
              "T4U_measured                 object\n",
              "T4U                          object\n",
              "FTI_measured                 object\n",
              "FTI                          object\n",
              "TBG_measured                 object\n",
              "TBG                          object\n",
              "dtype: object"
            ]
          },
          "metadata": {},
          "execution_count": 79
        }
      ]
    },
    {
      "cell_type": "code",
      "metadata": {
        "colab": {
          "base_uri": "https://localhost:8080/",
          "height": 193
        },
        "id": "LzwOlKjOtkvD",
        "outputId": "ef7ee211-b081-4c11-cecf-78f145f8956a"
      },
      "source": [
        "#Dataframe description\n",
        "\n",
        "df.describe()"
      ],
      "execution_count": 80,
      "outputs": [
        {
          "output_type": "execute_result",
          "data": {
            "text/html": [
              "<div>\n",
              "<style scoped>\n",
              "    .dataframe tbody tr th:only-of-type {\n",
              "        vertical-align: middle;\n",
              "    }\n",
              "\n",
              "    .dataframe tbody tr th {\n",
              "        vertical-align: top;\n",
              "    }\n",
              "\n",
              "    .dataframe thead th {\n",
              "        text-align: right;\n",
              "    }\n",
              "</style>\n",
              "<table border=\"1\" class=\"dataframe\">\n",
              "  <thead>\n",
              "    <tr style=\"text-align: right;\">\n",
              "      <th></th>\n",
              "      <th>status</th>\n",
              "      <th>age</th>\n",
              "      <th>sex</th>\n",
              "      <th>on_thyroxine</th>\n",
              "      <th>query_on_thyroxine</th>\n",
              "      <th>on_antithyroid_medication</th>\n",
              "      <th>thyroid_surgery</th>\n",
              "      <th>query_hypothyroid</th>\n",
              "      <th>query_hyperthyroid</th>\n",
              "      <th>pregnant</th>\n",
              "      <th>sick</th>\n",
              "      <th>tumor</th>\n",
              "      <th>lithium</th>\n",
              "      <th>goitre</th>\n",
              "      <th>TSH_measured</th>\n",
              "      <th>TSH</th>\n",
              "      <th>T3_measured</th>\n",
              "      <th>T3</th>\n",
              "      <th>TT4_measured</th>\n",
              "      <th>TT4</th>\n",
              "      <th>T4U_measured</th>\n",
              "      <th>T4U</th>\n",
              "      <th>FTI_measured</th>\n",
              "      <th>FTI</th>\n",
              "      <th>TBG_measured</th>\n",
              "      <th>TBG</th>\n",
              "    </tr>\n",
              "  </thead>\n",
              "  <tbody>\n",
              "    <tr>\n",
              "      <th>count</th>\n",
              "      <td>3163</td>\n",
              "      <td>3163</td>\n",
              "      <td>3163</td>\n",
              "      <td>3163</td>\n",
              "      <td>3163</td>\n",
              "      <td>3163</td>\n",
              "      <td>3163</td>\n",
              "      <td>3163</td>\n",
              "      <td>3163</td>\n",
              "      <td>3163</td>\n",
              "      <td>3163</td>\n",
              "      <td>3163</td>\n",
              "      <td>3163</td>\n",
              "      <td>3163</td>\n",
              "      <td>3163</td>\n",
              "      <td>3163</td>\n",
              "      <td>3163</td>\n",
              "      <td>3163</td>\n",
              "      <td>3163</td>\n",
              "      <td>3163</td>\n",
              "      <td>3163</td>\n",
              "      <td>3163</td>\n",
              "      <td>3163</td>\n",
              "      <td>3163</td>\n",
              "      <td>3163</td>\n",
              "      <td>3163</td>\n",
              "    </tr>\n",
              "    <tr>\n",
              "      <th>unique</th>\n",
              "      <td>2</td>\n",
              "      <td>93</td>\n",
              "      <td>3</td>\n",
              "      <td>2</td>\n",
              "      <td>2</td>\n",
              "      <td>2</td>\n",
              "      <td>2</td>\n",
              "      <td>2</td>\n",
              "      <td>2</td>\n",
              "      <td>2</td>\n",
              "      <td>2</td>\n",
              "      <td>2</td>\n",
              "      <td>2</td>\n",
              "      <td>2</td>\n",
              "      <td>2</td>\n",
              "      <td>240</td>\n",
              "      <td>2</td>\n",
              "      <td>70</td>\n",
              "      <td>2</td>\n",
              "      <td>269</td>\n",
              "      <td>2</td>\n",
              "      <td>159</td>\n",
              "      <td>2</td>\n",
              "      <td>281</td>\n",
              "      <td>2</td>\n",
              "      <td>53</td>\n",
              "    </tr>\n",
              "    <tr>\n",
              "      <th>top</th>\n",
              "      <td>negative</td>\n",
              "      <td>?</td>\n",
              "      <td>F</td>\n",
              "      <td>f</td>\n",
              "      <td>f</td>\n",
              "      <td>f</td>\n",
              "      <td>f</td>\n",
              "      <td>f</td>\n",
              "      <td>f</td>\n",
              "      <td>f</td>\n",
              "      <td>f</td>\n",
              "      <td>f</td>\n",
              "      <td>f</td>\n",
              "      <td>f</td>\n",
              "      <td>y</td>\n",
              "      <td>0</td>\n",
              "      <td>y</td>\n",
              "      <td>?</td>\n",
              "      <td>y</td>\n",
              "      <td>?</td>\n",
              "      <td>y</td>\n",
              "      <td>?</td>\n",
              "      <td>y</td>\n",
              "      <td>?</td>\n",
              "      <td>n</td>\n",
              "      <td>?</td>\n",
              "    </tr>\n",
              "    <tr>\n",
              "      <th>freq</th>\n",
              "      <td>3012</td>\n",
              "      <td>446</td>\n",
              "      <td>2182</td>\n",
              "      <td>2702</td>\n",
              "      <td>3108</td>\n",
              "      <td>3121</td>\n",
              "      <td>3059</td>\n",
              "      <td>2922</td>\n",
              "      <td>2920</td>\n",
              "      <td>3100</td>\n",
              "      <td>3064</td>\n",
              "      <td>3123</td>\n",
              "      <td>3161</td>\n",
              "      <td>3064</td>\n",
              "      <td>2695</td>\n",
              "      <td>894</td>\n",
              "      <td>2468</td>\n",
              "      <td>695</td>\n",
              "      <td>2914</td>\n",
              "      <td>249</td>\n",
              "      <td>2915</td>\n",
              "      <td>248</td>\n",
              "      <td>2916</td>\n",
              "      <td>247</td>\n",
              "      <td>2903</td>\n",
              "      <td>2903</td>\n",
              "    </tr>\n",
              "  </tbody>\n",
              "</table>\n",
              "</div>"
            ],
            "text/plain": [
              "          status   age   sex on_thyroxine  ... FTI_measured   FTI TBG_measured   TBG\n",
              "count       3163  3163  3163         3163  ...         3163  3163         3163  3163\n",
              "unique         2    93     3            2  ...            2   281            2    53\n",
              "top     negative     ?     F            f  ...            y     ?            n     ?\n",
              "freq        3012   446  2182         2702  ...         2916   247         2903  2903\n",
              "\n",
              "[4 rows x 26 columns]"
            ]
          },
          "metadata": {},
          "execution_count": 80
        }
      ]
    },
    {
      "cell_type": "markdown",
      "metadata": {
        "id": "EM8VtCQSKwB1"
      },
      "source": [
        "# **5. Tidying the Dataset**"
      ]
    },
    {
      "cell_type": "code",
      "metadata": {
        "id": "w_0tyGZ_uUVo"
      },
      "source": [
        "#Dropping uneccesary columns\n",
        "\n",
        "# df.drop(columns='TBG', inplace= True)"
      ],
      "execution_count": 81,
      "outputs": []
    },
    {
      "cell_type": "code",
      "metadata": {
        "colab": {
          "base_uri": "https://localhost:8080/"
        },
        "id": "98mVfAA-K1Ez",
        "outputId": "97e08e3e-0d9b-42ab-da40-928172cd1545"
      },
      "source": [
        "#Checking for Missing Values\n",
        "\n",
        "df.isnull().values.any()"
      ],
      "execution_count": 82,
      "outputs": [
        {
          "output_type": "execute_result",
          "data": {
            "text/plain": [
              "False"
            ]
          },
          "metadata": {},
          "execution_count": 82
        }
      ]
    },
    {
      "cell_type": "code",
      "metadata": {
        "colab": {
          "base_uri": "https://localhost:8080/"
        },
        "id": "iGT9pNz0K88i",
        "outputId": "9e958171-cf32-4cf7-8d7c-cf42453e3a0f"
      },
      "source": [
        "# Dealing with the Missing Data\n",
        "\n",
        "df.isnull().sum()"
      ],
      "execution_count": 83,
      "outputs": [
        {
          "output_type": "execute_result",
          "data": {
            "text/plain": [
              "status                       0\n",
              "age                          0\n",
              "sex                          0\n",
              "on_thyroxine                 0\n",
              "query_on_thyroxine           0\n",
              "on_antithyroid_medication    0\n",
              "thyroid_surgery              0\n",
              "query_hypothyroid            0\n",
              "query_hyperthyroid           0\n",
              "pregnant                     0\n",
              "sick                         0\n",
              "tumor                        0\n",
              "lithium                      0\n",
              "goitre                       0\n",
              "TSH_measured                 0\n",
              "TSH                          0\n",
              "T3_measured                  0\n",
              "T3                           0\n",
              "TT4_measured                 0\n",
              "TT4                          0\n",
              "T4U_measured                 0\n",
              "T4U                          0\n",
              "FTI_measured                 0\n",
              "FTI                          0\n",
              "TBG_measured                 0\n",
              "TBG                          0\n",
              "dtype: int64"
            ]
          },
          "metadata": {},
          "execution_count": 83
        }
      ]
    },
    {
      "cell_type": "markdown",
      "metadata": {
        "id": "XEx7hsra3BK6"
      },
      "source": [
        "# **7. Checking for & Removing Duplicates**"
      ]
    },
    {
      "cell_type": "code",
      "metadata": {
        "colab": {
          "base_uri": "https://localhost:8080/"
        },
        "id": "YJxThUr-209p",
        "outputId": "5876ad19-7abf-412d-b6df-b78af11646fe"
      },
      "source": [
        "#checking data for duplicates\n",
        "df.duplicated().values.any()"
      ],
      "execution_count": 84,
      "outputs": [
        {
          "output_type": "execute_result",
          "data": {
            "text/plain": [
              "True"
            ]
          },
          "metadata": {},
          "execution_count": 84
        }
      ]
    },
    {
      "cell_type": "code",
      "metadata": {
        "colab": {
          "base_uri": "https://localhost:8080/"
        },
        "id": "gkeZsL0Jqo4s",
        "outputId": "dc249d78-c157-461e-d0b9-b3fcb0939abe"
      },
      "source": [
        "df.duplicated().sum()"
      ],
      "execution_count": 85,
      "outputs": [
        {
          "output_type": "execute_result",
          "data": {
            "text/plain": [
              "77"
            ]
          },
          "metadata": {},
          "execution_count": 85
        }
      ]
    },
    {
      "cell_type": "code",
      "metadata": {
        "colab": {
          "base_uri": "https://localhost:8080/"
        },
        "id": "pG6dWiuA3cDm",
        "outputId": "204d7faf-9ba9-44fa-bb4f-ae087e4cdbcb"
      },
      "source": [
        "#Dropping Duplicates\n",
        "\n",
        "df.drop_duplicates(keep=False,inplace=True)\n",
        "\n",
        "df.duplicated().values.any()\n"
      ],
      "execution_count": 86,
      "outputs": [
        {
          "output_type": "execute_result",
          "data": {
            "text/plain": [
              "False"
            ]
          },
          "metadata": {},
          "execution_count": 86
        }
      ]
    },
    {
      "cell_type": "markdown",
      "metadata": {
        "id": "hSOPQEUa4JQw"
      },
      "source": [
        "# **EXPLORATORY ANALYSIS**"
      ]
    },
    {
      "cell_type": "markdown",
      "metadata": {
        "id": "XUx11QaT4QeN"
      },
      "source": [
        "# **Univariate Analysis - Categorical Variables**"
      ]
    },
    {
      "cell_type": "code",
      "metadata": {
        "colab": {
          "base_uri": "https://localhost:8080/"
        },
        "id": "41Sz-5956DbJ",
        "outputId": "8445b44a-ea26-47b3-ff6f-e522df190057"
      },
      "source": [
        "#checking column data type\n",
        "df.dtypes"
      ],
      "execution_count": 87,
      "outputs": [
        {
          "output_type": "execute_result",
          "data": {
            "text/plain": [
              "status                       object\n",
              "age                          object\n",
              "sex                          object\n",
              "on_thyroxine                 object\n",
              "query_on_thyroxine           object\n",
              "on_antithyroid_medication    object\n",
              "thyroid_surgery              object\n",
              "query_hypothyroid            object\n",
              "query_hyperthyroid           object\n",
              "pregnant                     object\n",
              "sick                         object\n",
              "tumor                        object\n",
              "lithium                      object\n",
              "goitre                       object\n",
              "TSH_measured                 object\n",
              "TSH                          object\n",
              "T3_measured                  object\n",
              "T3                           object\n",
              "TT4_measured                 object\n",
              "TT4                          object\n",
              "T4U_measured                 object\n",
              "T4U                          object\n",
              "FTI_measured                 object\n",
              "FTI                          object\n",
              "TBG_measured                 object\n",
              "TBG                          object\n",
              "dtype: object"
            ]
          },
          "metadata": {},
          "execution_count": 87
        }
      ]
    },
    {
      "cell_type": "code",
      "metadata": {
        "colab": {
          "base_uri": "https://localhost:8080/",
          "height": 204
        },
        "id": "5ft33T8l-dTO",
        "outputId": "39cfbb1d-21ef-4f4e-a88e-e47751a733f2"
      },
      "source": [
        "#Frequency Tables\n",
        "\n",
        "print(\"Sex Column Frequency table\")\n",
        "display(df.sex.value_counts())\n",
        "print('')\n",
        "\n",
        "print(\"Status Column Frequency table\")\n",
        "display(df.status.value_counts())\n",
        "print('')\n"
      ],
      "execution_count": 88,
      "outputs": [
        {
          "output_type": "stream",
          "name": "stdout",
          "text": [
            "Sex Column Frequency table\n"
          ]
        },
        {
          "output_type": "display_data",
          "data": {
            "text/plain": [
              "F    2057\n",
              "M     880\n",
              "?      73\n",
              "Name: sex, dtype: int64"
            ]
          },
          "metadata": {}
        },
        {
          "output_type": "stream",
          "name": "stdout",
          "text": [
            "\n",
            "Status Column Frequency table\n"
          ]
        },
        {
          "output_type": "display_data",
          "data": {
            "text/plain": [
              "negative       2879\n",
              "hypothyroid     131\n",
              "Name: status, dtype: int64"
            ]
          },
          "metadata": {}
        },
        {
          "output_type": "stream",
          "name": "stdout",
          "text": [
            "\n"
          ]
        }
      ]
    },
    {
      "cell_type": "code",
      "metadata": {
        "id": "cBiBHceSwhZ0"
      },
      "source": [
        "#Importing the seaborn library for visualization\n",
        "\n",
        "import seaborn as sns\n",
        "\n",
        "#setting a style\n",
        "\n",
        "sns.set(style='whitegrid', palette='muted', color_codes=True)"
      ],
      "execution_count": 89,
      "outputs": []
    },
    {
      "cell_type": "code",
      "metadata": {
        "colab": {
          "base_uri": "https://localhost:8080/",
          "height": 535
        },
        "id": "GMP07vMew7W0",
        "outputId": "2ee40efc-0835-4978-d884-ceaecc63e804"
      },
      "source": [
        "#plotting the condition column\n",
        "plt.figure(figsize=(7, 7))\n",
        "sns.countplot(df.status)\n",
        "plt.title('Status')\n"
      ],
      "execution_count": 90,
      "outputs": [
        {
          "output_type": "stream",
          "name": "stderr",
          "text": [
            "/usr/local/lib/python3.7/dist-packages/seaborn/_decorators.py:43: FutureWarning: Pass the following variable as a keyword arg: x. From version 0.12, the only valid positional argument will be `data`, and passing other arguments without an explicit keyword will result in an error or misinterpretation.\n",
            "  FutureWarning\n"
          ]
        },
        {
          "output_type": "execute_result",
          "data": {
            "text/plain": [
              "Text(0.5, 1.0, 'Status')"
            ]
          },
          "metadata": {},
          "execution_count": 90
        },
        {
          "output_type": "display_data",
          "data": {
            "image/png": "[encoded data removed]",
            "text/plain": [
              "<Figure size 504x504 with 1 Axes>"
            ]
          },
          "metadata": {}
        }
      ]
    },
    {
      "cell_type": "code",
      "metadata": {
        "colab": {
          "base_uri": "https://localhost:8080/",
          "height": 535
        },
        "id": "OCMoAfihD8_Y",
        "outputId": "fb4fc875-d216-4d0b-f2aa-9ea63bb9aada"
      },
      "source": [
        "#plotting the grade column\n",
        "plt.figure(figsize=(7, 7))\n",
        "sns.countplot(df.sex)\n",
        "plt.title('Sex by Frequency')"
      ],
      "execution_count": 91,
      "outputs": [
        {
          "output_type": "stream",
          "name": "stderr",
          "text": [
            "/usr/local/lib/python3.7/dist-packages/seaborn/_decorators.py:43: FutureWarning: Pass the following variable as a keyword arg: x. From version 0.12, the only valid positional argument will be `data`, and passing other arguments without an explicit keyword will result in an error or misinterpretation.\n",
            "  FutureWarning\n"
          ]
        },
        {
          "output_type": "execute_result",
          "data": {
            "text/plain": [
              "Text(0.5, 1.0, 'Sex by Frequency')"
            ]
          },
          "metadata": {},
          "execution_count": 91
        },
        {
          "output_type": "display_data",
          "data": {
            "image/png": "[encoded data removed]",
            "text/plain": [
              "<Figure size 504x504 with 1 Axes>"
            ]
          },
          "metadata": {}
        }
      ]
    },
    {
      "cell_type": "markdown",
      "metadata": {
        "id": "LzX-i3A0txOL"
      },
      "source": [
        "Most respondents were female"
      ]
    },
    {
      "cell_type": "code",
      "metadata": {
        "colab": {
          "base_uri": "https://localhost:8080/",
          "height": 542
        },
        "id": "0cjwP-YAhvZR",
        "outputId": "fdc8c96a-3db3-4a1a-a27b-9a0dbf6befb5"
      },
      "source": [
        "#Analyzing numerical columns\n",
        "\n",
        "age_counts = df[\"age\"].value_counts()\n",
        "# df.groupby('sex').age.plot(kind='kde')\n",
        "import plotly.express as px\n",
        "fig = px.bar(age_counts, title=\"Age of respondents\")\n",
        "fig.update_layout(\n",
        "    xaxis_title = \"Age\",\n",
        "    yaxis_title = \"Frequency\",\n",
        "    title_x = 0.5, \n",
        "    showlegend = False\n",
        ")\n",
        "fig.show()"
      ],
      "execution_count": 98,
      "outputs": [
        {
          "output_type": "display_data",
          "data": {
            "text/html": [
              "<html>\n",
              "<head><meta charset=\"utf-8\" /></head>\n",
              "<body>\n",
              "    <div>\n",
              "            <script src=\"https://cdnjs.cloudflare.com/ajax/libs/mathjax/2.7.5/MathJax.js?config=TeX-AMS-MML_SVG\"></script><script type=\"text/javascript\">if (window.MathJax) {MathJax.Hub.Config({SVG: {font: \"STIX-Web\"}});}</script>\n",
              "                <script type=\"text/javascript\">window.PlotlyConfig = {MathJaxConfig: 'local'};</script>\n",
              "        <script src=\"https://cdn.plot.ly/plotly-latest.min.js\"></script>    \n",
              "            <div id=\"9ee6bc94-fcfa-452f-a33c-cc550af70fec\" class=\"plotly-graph-div\" style=\"height:525px; width:100%;\"></div>\n",
              "            <script type=\"text/javascript\">\n",
              "                \n",
              "                    window.PLOTLYENV=window.PLOTLYENV || {};\n",
              "                    \n",
              "                if (document.getElementById(\"9ee6bc94-fcfa-452f-a33c-cc550af70fec\")) {\n",
              "                    Plotly.newPlot(\n",
              "                        '9ee6bc94-fcfa-452f-a33c-cc550af70fec',\n",
              "                        [],\n",
              "                        {\"barmode\": \"relative\", \"legend\": {\"tracegroupgap\": 0}, \"showlegend\": false, \"template\": {\"data\": {\"bar\": [{\"error_x\": {\"color\": \"#2a3f5f\"}, \"error_y\": {\"color\": \"#2a3f5f\"}, \"marker\": {\"line\": {\"color\": \"#E5ECF6\", \"width\": 0.5}}, \"type\": \"bar\"}], \"barpolar\": [{\"marker\": {\"line\": {\"color\": \"#E5ECF6\", \"width\": 0.5}}, \"type\": \"barpolar\"}], \"carpet\": [{\"aaxis\": {\"endlinecolor\": \"#2a3f5f\", \"gridcolor\": \"white\", \"linecolor\": \"white\", \"minorgridcolor\": \"white\", \"startlinecolor\": \"#2a3f5f\"}, \"baxis\": {\"endlinecolor\": \"#2a3f5f\", \"gridcolor\": \"white\", \"linecolor\": \"white\", \"minorgridcolor\": \"white\", \"startlinecolor\": \"#2a3f5f\"}, \"type\": \"carpet\"}], \"choropleth\": [{\"colorbar\": {\"outlinewidth\": 0, \"ticks\": \"\"}, \"type\": \"choropleth\"}], \"contour\": [{\"colorbar\": {\"outlinewidth\": 0, \"ticks\": \"\"}, \"colorscale\": [[0.0, \"#0d0887\"], [0.1111111111111111, \"#46039f\"], [0.2222222222222222, \"#7201a8\"], [0.3333333333333333, \"#9c179e\"], [0.4444444444444444, \"#bd3786\"], [0.5555555555555556, \"#d8576b\"], [0.6666666666666666, \"#ed7953\"], [0.7777777777777778, \"#fb9f3a\"], [0.8888888888888888, \"#fdca26\"], [1.0, \"#f0f921\"]], \"type\": \"contour\"}], \"contourcarpet\": [{\"colorbar\": {\"outlinewidth\": 0, \"ticks\": \"\"}, \"type\": \"contourcarpet\"}], \"heatmap\": [{\"colorbar\": {\"outlinewidth\": 0, \"ticks\": \"\"}, \"colorscale\": [[0.0, \"#0d0887\"], [0.1111111111111111, \"#46039f\"], [0.2222222222222222, \"#7201a8\"], [0.3333333333333333, \"#9c179e\"], [0.4444444444444444, \"#bd3786\"], [0.5555555555555556, \"#d8576b\"], [0.6666666666666666, \"#ed7953\"], [0.7777777777777778, \"#fb9f3a\"], [0.8888888888888888, \"#fdca26\"], [1.0, \"#f0f921\"]], \"type\": \"heatmap\"}], \"heatmapgl\": [{\"colorbar\": {\"outlinewidth\": 0, \"ticks\": \"\"}, \"colorscale\": [[0.0, \"#0d0887\"], [0.1111111111111111, \"#46039f\"], [0.2222222222222222, \"#7201a8\"], [0.3333333333333333, \"#9c179e\"], [0.4444444444444444, \"#bd3786\"], [0.5555555555555556, \"#d8576b\"], [0.6666666666666666, \"#ed7953\"], [0.7777777777777778, \"#fb9f3a\"], [0.8888888888888888, \"#fdca26\"], [1.0, \"#f0f921\"]], \"type\": \"heatmapgl\"}], \"histogram\": [{\"marker\": {\"colorbar\": {\"outlinewidth\": 0, \"ticks\": \"\"}}, \"type\": \"histogram\"}], \"histogram2d\": [{\"colorbar\": {\"outlinewidth\": 0, \"ticks\": \"\"}, \"colorscale\": [[0.0, \"#0d0887\"], [0.1111111111111111, \"#46039f\"], [0.2222222222222222, \"#7201a8\"], [0.3333333333333333, \"#9c179e\"], [0.4444444444444444, \"#bd3786\"], [0.5555555555555556, \"#d8576b\"], [0.6666666666666666, \"#ed7953\"], [0.7777777777777778, \"#fb9f3a\"], [0.8888888888888888, \"#fdca26\"], [1.0, \"#f0f921\"]], \"type\": \"histogram2d\"}], \"histogram2dcontour\": [{\"colorbar\": {\"outlinewidth\": 0, \"ticks\": \"\"}, \"colorscale\": [[0.0, \"#0d0887\"], [0.1111111111111111, \"#46039f\"], [0.2222222222222222, \"#7201a8\"], [0.3333333333333333, \"#9c179e\"], [0.4444444444444444, \"#bd3786\"], [0.5555555555555556, \"#d8576b\"], [0.6666666666666666, \"#ed7953\"], [0.7777777777777778, \"#fb9f3a\"], [0.8888888888888888, \"#fdca26\"], [1.0, \"#f0f921\"]], \"type\": \"histogram2dcontour\"}], \"mesh3d\": [{\"colorbar\": {\"outlinewidth\": 0, \"ticks\": \"\"}, \"type\": \"mesh3d\"}], \"parcoords\": [{\"line\": {\"colorbar\": {\"outlinewidth\": 0, \"ticks\": \"\"}}, \"type\": \"parcoords\"}], \"pie\": [{\"automargin\": true, \"type\": \"pie\"}], \"scatter\": [{\"marker\": {\"colorbar\": {\"outlinewidth\": 0, \"ticks\": \"\"}}, \"type\": \"scatter\"}], \"scatter3d\": [{\"line\": {\"colorbar\": {\"outlinewidth\": 0, \"ticks\": \"\"}}, \"marker\": {\"colorbar\": {\"outlinewidth\": 0, \"ticks\": \"\"}}, \"type\": \"scatter3d\"}], \"scattercarpet\": [{\"marker\": {\"colorbar\": {\"outlinewidth\": 0, \"ticks\": \"\"}}, \"type\": \"scattercarpet\"}], \"scattergeo\": [{\"marker\": {\"colorbar\": {\"outlinewidth\": 0, \"ticks\": \"\"}}, \"type\": \"scattergeo\"}], \"scattergl\": [{\"marker\": {\"colorbar\": {\"outlinewidth\": 0, \"ticks\": \"\"}}, \"type\": \"scattergl\"}], \"scattermapbox\": [{\"marker\": {\"colorbar\": {\"outlinewidth\": 0, \"ticks\": \"\"}}, \"type\": \"scattermapbox\"}], \"scatterpolar\": [{\"marker\": {\"colorbar\": {\"outlinewidth\": 0, \"ticks\": \"\"}}, \"type\": \"scatterpolar\"}], \"scatterpolargl\": [{\"marker\": {\"colorbar\": {\"outlinewidth\": 0, \"ticks\": \"\"}}, \"type\": \"scatterpolargl\"}], \"scatterternary\": [{\"marker\": {\"colorbar\": {\"outlinewidth\": 0, \"ticks\": \"\"}}, \"type\": \"scatterternary\"}], \"surface\": [{\"colorbar\": {\"outlinewidth\": 0, \"ticks\": \"\"}, \"colorscale\": [[0.0, \"#0d0887\"], [0.1111111111111111, \"#46039f\"], [0.2222222222222222, \"#7201a8\"], [0.3333333333333333, \"#9c179e\"], [0.4444444444444444, \"#bd3786\"], [0.5555555555555556, \"#d8576b\"], [0.6666666666666666, \"#ed7953\"], [0.7777777777777778, \"#fb9f3a\"], [0.8888888888888888, \"#fdca26\"], [1.0, \"#f0f921\"]], \"type\": \"surface\"}], \"table\": [{\"cells\": {\"fill\": {\"color\": \"#EBF0F8\"}, \"line\": {\"color\": \"white\"}}, \"header\": {\"fill\": {\"color\": \"#C8D4E3\"}, \"line\": {\"color\": \"white\"}}, \"type\": \"table\"}]}, \"layout\": {\"annotationdefaults\": {\"arrowcolor\": \"#2a3f5f\", \"arrowhead\": 0, \"arrowwidth\": 1}, \"coloraxis\": {\"colorbar\": {\"outlinewidth\": 0, \"ticks\": \"\"}}, \"colorscale\": {\"diverging\": [[0, \"#8e0152\"], [0.1, \"#c51b7d\"], [0.2, \"#de77ae\"], [0.3, \"#f1b6da\"], [0.4, \"#fde0ef\"], [0.5, \"#f7f7f7\"], [0.6, \"#e6f5d0\"], [0.7, \"#b8e186\"], [0.8, \"#7fbc41\"], [0.9, \"#4d9221\"], [1, \"#276419\"]], \"sequential\": [[0.0, \"#0d0887\"], [0.1111111111111111, \"#46039f\"], [0.2222222222222222, \"#7201a8\"], [0.3333333333333333, \"#9c179e\"], [0.4444444444444444, \"#bd3786\"], [0.5555555555555556, \"#d8576b\"], [0.6666666666666666, \"#ed7953\"], [0.7777777777777778, \"#fb9f3a\"], [0.8888888888888888, \"#fdca26\"], [1.0, \"#f0f921\"]], \"sequentialminus\": [[0.0, \"#0d0887\"], [0.1111111111111111, \"#46039f\"], [0.2222222222222222, \"#7201a8\"], [0.3333333333333333, \"#9c179e\"], [0.4444444444444444, \"#bd3786\"], [0.5555555555555556, \"#d8576b\"], [0.6666666666666666, \"#ed7953\"], [0.7777777777777778, \"#fb9f3a\"], [0.8888888888888888, \"#fdca26\"], [1.0, \"#f0f921\"]]}, \"colorway\": [\"#636efa\", \"#EF553B\", \"#00cc96\", \"#ab63fa\", \"#FFA15A\", \"#19d3f3\", \"#FF6692\", \"#B6E880\", \"#FF97FF\", \"#FECB52\"], \"font\": {\"color\": \"#2a3f5f\"}, \"geo\": {\"bgcolor\": \"white\", \"lakecolor\": \"white\", \"landcolor\": \"#E5ECF6\", \"showlakes\": true, \"showland\": true, \"subunitcolor\": \"white\"}, \"hoverlabel\": {\"align\": \"left\"}, \"hovermode\": \"closest\", \"mapbox\": {\"style\": \"light\"}, \"paper_bgcolor\": \"white\", \"plot_bgcolor\": \"#E5ECF6\", \"polar\": {\"angularaxis\": {\"gridcolor\": \"white\", \"linecolor\": \"white\", \"ticks\": \"\"}, \"bgcolor\": \"#E5ECF6\", \"radialaxis\": {\"gridcolor\": \"white\", \"linecolor\": \"white\", \"ticks\": \"\"}}, \"scene\": {\"xaxis\": {\"backgroundcolor\": \"#E5ECF6\", \"gridcolor\": \"white\", \"gridwidth\": 2, \"linecolor\": \"white\", \"showbackground\": true, \"ticks\": \"\", \"zerolinecolor\": \"white\"}, \"yaxis\": {\"backgroundcolor\": \"#E5ECF6\", \"gridcolor\": \"white\", \"gridwidth\": 2, \"linecolor\": \"white\", \"showbackground\": true, \"ticks\": \"\", \"zerolinecolor\": \"white\"}, \"zaxis\": {\"backgroundcolor\": \"#E5ECF6\", \"gridcolor\": \"white\", \"gridwidth\": 2, \"linecolor\": \"white\", \"showbackground\": true, \"ticks\": \"\", \"zerolinecolor\": \"white\"}}, \"shapedefaults\": {\"line\": {\"color\": \"#2a3f5f\"}}, \"ternary\": {\"aaxis\": {\"gridcolor\": \"white\", \"linecolor\": \"white\", \"ticks\": \"\"}, \"baxis\": {\"gridcolor\": \"white\", \"linecolor\": \"white\", \"ticks\": \"\"}, \"bgcolor\": \"#E5ECF6\", \"caxis\": {\"gridcolor\": \"white\", \"linecolor\": \"white\", \"ticks\": \"\"}}, \"title\": {\"x\": 0.05}, \"xaxis\": {\"automargin\": true, \"gridcolor\": \"white\", \"linecolor\": \"white\", \"ticks\": \"\", \"title\": {\"standoff\": 15}, \"zerolinecolor\": \"white\", \"zerolinewidth\": 2}, \"yaxis\": {\"automargin\": true, \"gridcolor\": \"white\", \"linecolor\": \"white\", \"ticks\": \"\", \"title\": {\"standoff\": 15}, \"zerolinecolor\": \"white\", \"zerolinewidth\": 2}}}, \"title\": {\"text\": \"Age of respondents\", \"x\": 0.5}, \"xaxis\": {\"anchor\": \"y\", \"domain\": [0.0, 1.0], \"title\": {\"text\": \"Age\"}}, \"yaxis\": {\"anchor\": \"x\", \"domain\": [0.0, 1.0], \"title\": {\"text\": \"Frequency\"}}},\n",
              "                        {\"responsive\": true}\n",
              "                    ).then(function(){\n",
              "                            \n",
              "var gd = document.getElementById('9ee6bc94-fcfa-452f-a33c-cc550af70fec');\n",
              "var x = new MutationObserver(function (mutations, observer) {{\n",
              "        var display = window.getComputedStyle(gd).display;\n",
              "        if (!display || display === 'none') {{\n",
              "            console.log([gd, 'removed!']);\n",
              "            Plotly.purge(gd);\n",
              "            observer.disconnect();\n",
              "        }}\n",
              "}});\n",
              "\n",
              "// Listen for the removal of the full notebook cells\n",
              "var notebookContainer = gd.closest('#notebook-container');\n",
              "if (notebookContainer) {{\n",
              "    x.observe(notebookContainer, {childList: true});\n",
              "}}\n",
              "\n",
              "// Listen for the clearing of the current output cell\n",
              "var outputEl = gd.closest('.output');\n",
              "if (outputEl) {{\n",
              "    x.observe(outputEl, {childList: true});\n",
              "}}\n",
              "\n",
              "                        })\n",
              "                };\n",
              "                \n",
              "            </script>\n",
              "        </div>\n",
              "</body>\n",
              "</html>"
            ]
          },
          "metadata": {}
        }
      ]
    },
    {
      "cell_type": "markdown",
      "metadata": {
        "id": "xtv8ZQp-cAlu"
      },
      "source": [
        "# **Bivariate Analysis**"
      ]
    },
    {
      "cell_type": "code",
      "metadata": {
        "colab": {
          "base_uri": "https://localhost:8080/",
          "height": 398
        },
        "id": "ySSULj_I1TJS",
        "outputId": "beae4d38-5de3-4cd3-93c1-4e44b05fb109"
      },
      "source": [
        "#checking how pregnancy relates to status\n",
        "\n",
        "sns.catplot(x=\"pregnant\", hue=\"status\", kind=\"count\",\n",
        "            palette=\"pastel\", edgecolor=\".6\", data=df)\n",
        "plt.title(\"Status vs Pregnancy\")"
      ],
      "execution_count": 61,
      "outputs": [
        {
          "output_type": "execute_result",
          "data": {
            "text/plain": [
              "Text(0.5, 1.0, 'Status vs Pregnancy')"
            ]
          },
          "metadata": {},
          "execution_count": 61
        },
        {
          "output_type": "display_data",
          "data": {
            "image/png": "[encoded data removed]",
            "text/plain": [
              "<Figure size 465.975x360 with 1 Axes>"
            ]
          },
          "metadata": {}
        }
      ]
    },
    {
      "cell_type": "code",
      "metadata": {
        "id": "fzKzzM7Sk6yG"
      },
      "source": [
        "\n",
        "\n",
        "agg_tips = df.groupby(['day', 'sex'])['tip'].sum().unstack().fillna(0)\n",
        "agg_tips\n",
        "\n",
        "# Sum up the rows of our data to get the total value of each bar.\n",
        "totals = agg_tips.sum(axis=1)\n",
        "# Set an offset that is used to bump the label up a bit above the bar.\n",
        "y_offset = 4\n",
        "# Add labels to each bar.\n",
        "for i, total in enumerate(totals):\n",
        "  ax.text(totals.index[i], total + y_offset, round(total), ha='center',\n",
        "          weight='bold')\n"
      ],
      "execution_count": null,
      "outputs": []
    },
    {
      "cell_type": "code",
      "metadata": {
        "id": "vuMig0KJCVLn"
      },
      "source": [
        "#Checking varibale correlation\n",
        "\n",
        "plt.figure(figsize=(17,17))\n",
        "sns.heatmap(df.corr(), annot=True)\n",
        "plt.show()"
      ],
      "execution_count": null,
      "outputs": []
    },
    {
      "cell_type": "code",
      "metadata": {
        "id": "v2BnQGz3mUdf",
        "colab": {
          "base_uri": "https://localhost:8080/",
          "height": 629
        },
        "outputId": "b6d82787-f18d-43cc-b8fe-5c3446d4f0cf"
      },
      "source": [
        "#Relationship btn Price & Living room square foot\n",
        "\n",
        "plt.figure(figsize=(15, 10))\n",
        "sns.scatterplot(x='price', y='sqft_living', data=df)\n",
        "plt.title('Relationship btn Price & Living room square foot', fontsize=15)\n",
        "plt.show()"
      ],
      "execution_count": null,
      "outputs": [
        {
          "output_type": "display_data",
          "data": {
            "image/png": "[encoded data removed]",
            "text/plain": [
              "<Figure size 1080x720 with 1 Axes>"
            ]
          },
          "metadata": {}
        }
      ]
    },
    {
      "cell_type": "code",
      "metadata": {
        "id": "ZpFAfVx2VJxK"
      },
      "source": [
        "#Relationship btn Categorical & Numerical variables\n",
        "\n",
        "sns.pairplot(df,hue='condition')\n",
        "plt.show()"
      ],
      "execution_count": null,
      "outputs": []
    },
    {
      "cell_type": "markdown",
      "metadata": {
        "id": "qUDsoibV7Zfd"
      },
      "source": [
        "#**Multivariate Analysis**"
      ]
    },
    {
      "cell_type": "markdown",
      "metadata": {
        "id": "o-RFEbntcmyk"
      },
      "source": [
        "#Multivariate Regression Analysis\n",
        "\n",
        "\n",
        "\n"
      ]
    },
    {
      "cell_type": "code",
      "metadata": {
        "id": "ZJDqoo65cWNQ"
      },
      "source": [
        "#Making a list of Dependent & Independent variables\n",
        "\n",
        "#separate the other attributes from the predicting attribute\n",
        "x = df.drop('price',axis=1)\n",
        "#separate the predicting attribute into Y for model training \n",
        "y = df['price']"
      ],
      "execution_count": null,
      "outputs": []
    },
    {
      "cell_type": "code",
      "metadata": {
        "id": "m735NYDsw-RW"
      },
      "source": [
        "#Splitting the data\n",
        "\n",
        "# importing train_test_split from sklearn\n",
        "\n",
        "from sklearn.model_selection import train_test_split\n",
        "# splitting the data\n",
        "\n",
        "x_train, x_test, y_train, y_test = train_test_split(x, y, test_size = 0.2, random_state = 0)"
      ],
      "execution_count": null,
      "outputs": []
    },
    {
      "cell_type": "code",
      "metadata": {
        "id": "aggVKuRoxKf3",
        "colab": {
          "base_uri": "https://localhost:8080/"
        },
        "outputId": "f92b58b8-93a3-48f7-a3b6-f00cf20f84be"
      },
      "source": [
        "#From the sklearn module we will use the LinearRegression() method to create a linear regression object.\n",
        "# This object has a method called fit() that takes the independent and dependent values as parameters \n",
        "# and fills the regression object with data that describes the relationship\n",
        "\n",
        "\n",
        "# importing module\n",
        "from sklearn.linear_model import LinearRegression\n",
        "# creating an object of LinearRegression class\n",
        "LR = LinearRegression()\n",
        "# fitting the training data\n",
        "LR.fit(x_train,y_train)"
      ],
      "execution_count": null,
      "outputs": [
        {
          "output_type": "execute_result",
          "data": {
            "text/plain": [
              "LinearRegression(copy_X=True, fit_intercept=True, n_jobs=None, normalize=False)"
            ]
          },
          "metadata": {},
          "execution_count": 33
        }
      ]
    },
    {
      "cell_type": "code",
      "metadata": {
        "id": "s04sncsIxbCu",
        "colab": {
          "base_uri": "https://localhost:8080/"
        },
        "outputId": "fdde7f64-9ad4-4734-cd76-141354a3cd09"
      },
      "source": [
        "#Predicting test set results\n",
        "\n",
        "y_prediction =  LR.predict(x_test)\n",
        "y_prediction"
      ],
      "execution_count": null,
      "outputs": [
        {
          "output_type": "execute_result",
          "data": {
            "text/plain": [
              "array([  84367.87283458,  330390.24541614, 1036084.82602524, ...,\n",
              "        530356.38262174,  226917.60376267, 1100775.14709574])"
            ]
          },
          "metadata": {},
          "execution_count": 34
        }
      ]
    },
    {
      "cell_type": "code",
      "metadata": {
        "id": "v93S60Wez8Qo",
        "colab": {
          "base_uri": "https://localhost:8080/"
        },
        "outputId": "f878a022-b79a-49ce-9f67-90c325c84b0c"
      },
      "source": [
        "# importing r2_score module to check our model accuracy\n",
        "from sklearn.metrics import r2_score\n",
        "from sklearn.metrics import mean_squared_error\n",
        "# predicting the accuracy score\n",
        "score=r2_score(y_test,y_prediction)\n",
        "print('r2 score is ',score)\n",
        "print('mean_sqrd_error is==',mean_squared_error(y_test,y_prediction))\n",
        "print('root_mean_squared error of is==',np.sqrt(mean_squared_error(y_test,y_prediction)))"
      ],
      "execution_count": null,
      "outputs": [
        {
          "output_type": "stream",
          "name": "stdout",
          "text": [
            "r2 score is  0.6821998239045917\n",
            "mean_sqrd_error is== 38030084494.494446\n",
            "root_mean_squared error of is== 195013.03672958494\n"
          ]
        }
      ]
    },
    {
      "cell_type": "code",
      "metadata": {
        "colab": {
          "base_uri": "https://localhost:8080/",
          "height": 586
        },
        "id": "_BKZQznJ7on7",
        "outputId": "920f7f8b-10b6-412c-cf19-4a93af7aaa30"
      },
      "source": [
        "#Plotting the results\n",
        "\n",
        "plt.figure(figsize=(6,6))\n",
        "plt.scatter(y_test,y_prediction)\n",
        "plt.ylabel('Predicted')\n",
        "plt.xlabel('Actual')\n",
        "plt.title('Actual vs Predicted')"
      ],
      "execution_count": null,
      "outputs": [
        {
          "output_type": "execute_result",
          "data": {
            "text/plain": [
              "Text(0.5, 1.0, 'Actual vs Predicted')"
            ]
          },
          "metadata": {},
          "execution_count": 42
        },
        {
          "output_type": "display_data",
          "data": {
            "image/png": "[encoded data removed]",
            "text/plain": [
              "<Figure size 600x600 with 1 Axes>"
            ]
          },
          "metadata": {}
        }
      ]
    },
    {
      "cell_type": "markdown",
      "metadata": {
        "id": "94h6cQc81VAp"
      },
      "source": [
        "\n",
        "#Quantile Regression Analysis\n",
        "\n",
        "\n",
        "\n"
      ]
    },
    {
      "cell_type": "code",
      "metadata": {
        "id": "OUQ4lLfe1ao8"
      },
      "source": [
        "# We will use the python package statsmodels for Quantile Regression\n",
        "#\n",
        "import statsmodels.formula.api as smf\n"
      ],
      "execution_count": null,
      "outputs": []
    },
    {
      "cell_type": "code",
      "metadata": {
        "id": "bcAbSijPSYTE"
      },
      "source": [
        "# Finding the regression coefficients for the conditioned median, 0.5 quantile\n",
        "#\n",
        "mod = smf.quantreg('y ~ x', df)\n",
        "res = mod.fit(q=.5)\n",
        "\n",
        "# Then print out the summary of our model\n",
        "#\n",
        "print(res.summary())"
      ],
      "execution_count": null,
      "outputs": []
    },
    {
      "cell_type": "code",
      "metadata": {
        "id": "-HFUtsZ-Tky2"
      },
      "source": [
        "## Similarly we can do the models for other quantiles\n",
        "# \n",
        "quantiles = np.arange(0.1,1,0.1) \n",
        "models = []\n",
        "params = []\n",
        "\n",
        "# We build models for each quantile in our list quantiles inside a for loop\n",
        "# As we build these models we also store the model parameters in a list called params. \n",
        "for qt in quantiles: \n",
        "\tres = mod.fit(q = qt )\n",
        "\tmodels.append(res)\n",
        "\tparams.append([qt, res.params['Intercept'], res.params['x']] + res.conf_int().loc['x'].tolist())\n",
        "\n",
        "# Lastly we make a dataframe of the same name, so we we can view our different models.\n",
        "params = pd.DataFrame(data = params, columns = ['qt', 'intercept', 'x_coef', 'cf_lower_bound', 'cf_upper_bound'])\n",
        "print(params)"
      ],
      "execution_count": null,
      "outputs": []
    },
    {
      "cell_type": "markdown",
      "metadata": {
        "id": "mvd1EiVkLTlV"
      },
      "source": [
        "\n",
        "#Ridge Regression Analysis\n",
        "\n",
        "\n",
        "\n"
      ]
    },
    {
      "cell_type": "code",
      "metadata": {
        "id": "hN3x1DtSG7er"
      },
      "source": [
        "#importing libraries\n",
        "from sklearn.model_selection import GridSearchCV\n",
        "from sklearn.linear_model import Ridge"
      ],
      "execution_count": null,
      "outputs": []
    },
    {
      "cell_type": "code",
      "metadata": {
        "colab": {
          "base_uri": "https://localhost:8080/"
        },
        "id": "ZWfbhHWdHxfv",
        "outputId": "30fdad8b-167e-4803-e328-e4bc34f6b1e7"
      },
      "source": [
        "# Creating our baseline regression model\n",
        "# This is a model that has no regularization to it\n",
        "# \n",
        "regression = LinearRegression()\n",
        "regression.fit(x,y)\n",
        "first_model = (mean_squared_error(y_true=y,y_pred=regression.predict(x)))\n",
        "print(first_model)\n"
      ],
      "execution_count": null,
      "outputs": [
        {
          "output_type": "stream",
          "name": "stdout",
          "text": [
            "40501094629.69728\n"
          ]
        }
      ]
    },
    {
      "cell_type": "code",
      "metadata": {
        "id": "_6CwDU2IKGrk"
      },
      "source": [
        "#create our ridge model and indicate normalization in order to get better estimates\n",
        "ridge = Ridge(normalize=True)\n",
        "search = GridSearchCV(estimator=ridge,param_grid={'alpha':np.logspace(-5,2,8)},scoring='neg_mean_squared_error',n_jobs=1,refit=True,cv=10)"
      ],
      "execution_count": null,
      "outputs": []
    },
    {
      "cell_type": "code",
      "metadata": {
        "colab": {
          "base_uri": "https://localhost:8080/"
        },
        "id": "QMcRkZW-KJj8",
        "outputId": "c236fd09-db20-4d5a-a686-32dfe7c0b1d7"
      },
      "source": [
        "# We now use the .fit function to run the model and then use the .best_params_ and\n",
        "#  .best_scores_ function to determine the models strength.\n",
        "search.fit(x,y)\n",
        "search.best_params_\n",
        "{'alpha': 0.01}\n",
        "abs(search.best_score_) "
      ],
      "execution_count": null,
      "outputs": [
        {
          "output_type": "execute_result",
          "data": {
            "text/plain": [
              "41003795765.03559"
            ]
          },
          "metadata": {},
          "execution_count": 49
        }
      ]
    },
    {
      "cell_type": "code",
      "metadata": {
        "colab": {
          "base_uri": "https://localhost:8080/"
        },
        "id": "ZvLGInxfKr-k",
        "outputId": "f1fd03a3-505c-4fed-e416-e757993aa935"
      },
      "source": [
        "## We can confirm this by fitting our model with the ridge information and finding the mean squared error below\n",
        "ridge = Ridge(normalize=True,alpha=0.01)\n",
        "ridge.fit(x,y)\n",
        "second_model = (mean_squared_error(y_true=y,y_pred=ridge.predict(x)))\n",
        "print(second_model)"
      ],
      "execution_count": null,
      "outputs": [
        {
          "output_type": "stream",
          "name": "stdout",
          "text": [
            "40507420437.20115\n"
          ]
        }
      ]
    },
    {
      "cell_type": "markdown",
      "metadata": {
        "id": "osJP_xgKG6A_"
      },
      "source": [
        "\n",
        "#Lasso Regression Analysis\n",
        "\n",
        "\n",
        "\n"
      ]
    },
    {
      "cell_type": "code",
      "metadata": {
        "id": "UInKLAOQLYD1"
      },
      "source": [
        "# Loading our libraries\n",
        "#\n",
        "from sklearn.linear_model import Lasso\n",
        "from sklearn.datasets import load_boston\n",
        "from sklearn.preprocessing import StandardScaler"
      ],
      "execution_count": null,
      "outputs": []
    },
    {
      "cell_type": "code",
      "metadata": {
        "id": "qzhQt007MYiE"
      },
      "source": [
        "# Scaling data \n",
        "#\n",
        "scaler = StandardScaler()\n",
        "scaler.fit(x)\n",
        "x = scaler.transform(x)"
      ],
      "execution_count": null,
      "outputs": []
    },
    {
      "cell_type": "code",
      "metadata": {
        "colab": {
          "base_uri": "https://localhost:8080/"
        },
        "id": "Hedp-LMlMx_1",
        "outputId": "1b2c81f8-b1bc-41bd-ddd2-5a9fbda0f2aa"
      },
      "source": [
        "# Importing linear models\n",
        "# \n",
        "from sklearn import linear_model\n",
        "from sklearn.metrics import mean_squared_error\n",
        "\n",
        "# Creating lasso object\n",
        "# \n",
        "lasso = linear_model.Lasso() \n",
        "\n",
        "# Fitting the models\n",
        "# \n",
        "lasso.fit(x, y) \n",
        "\n",
        "# Print scores, MSE, and coefficients\n",
        "# \n",
        "print(\"lasso score:\", lasso.score(x, y)) \n",
        "print(\"lasso MSE:\", mean_squared_error(y, lasso.predict(x))) \n",
        "print(\"lasso coef:\", lasso.coef_) "
      ],
      "execution_count": null,
      "outputs": [
        {
          "output_type": "stream",
          "name": "stdout",
          "text": [
            "lasso score: 0.6999608284704923\n",
            "lasso MSE: 40501094672.67543\n",
            "lasso coef: [ -3766.69192708 -33237.55604261  31584.61998728 259519.67485432\n",
            "   5008.88657376   3742.7604078   50345.23699033  40831.6586881\n",
            "  17153.67869608 112975.41836491 -83951.24020882 -58579.83537427\n",
            " -77069.40768071   8059.13454251 -31169.64448631  83507.29365442\n",
            " -29933.68323854  14836.20921419 -10817.41906936]\n"
          ]
        },
        {
          "output_type": "stream",
          "name": "stderr",
          "text": [
            "/usr/local/lib/python3.7/dist-packages/sklearn/linear_model/_coordinate_descent.py:476: ConvergenceWarning: Objective did not converge. You might want to increase the number of iterations. Duality gap: 27068762899870.625, tolerance: 291664301074.9131\n",
            "  positive)\n"
          ]
        }
      ]
    },
    {
      "cell_type": "code",
      "metadata": {
        "colab": {
          "base_uri": "https://localhost:8080/"
        },
        "id": "WFSDPoTpNPYd",
        "outputId": "c4ab3cfc-f11f-4c3c-ea28-f0283a7ec12d"
      },
      "source": [
        "import warnings\n",
        "warnings.filterwarnings(\"ignore\")\n",
        "\n",
        "parameters = {'alpha': np.concatenate((np.arange(0.1,2,0.1), np.arange(2, 5, 0.5), np.arange(5, 25, 1)))}\n",
        "\n",
        "linear = linear_model.LinearRegression()\n",
        "lasso = linear_model.Lasso() \n",
        "gridlasso = GridSearchCV(lasso, parameters, scoring ='r2') \n",
        "\n",
        "# Fitting models and print the best parameters, R-squared scores, MSE, and coefficients\n",
        "gridlasso.fit(x_train, y_train) \n",
        "linear.fit(x_train, y_train) \n",
        "print(\"lasso best parameters:\", gridlasso.best_params_) \n",
        "print(\"lasso score:\", gridlasso.score(x_test, y_test))\n",
        "print(\"linear score:\", linear.score(x_test, y_test)) \n",
        "print(\"lasso MSE:\", mean_squared_error(y_test, gridlasso.predict(x_test)))\n",
        "print(\"linear MSE:\", mean_squared_error(y_test, linear.predict(x_test))) \n",
        "print(\"lasso best estimator coef:\", gridlasso.best_estimator_.coef_)\n",
        "print(\"linear coef:\", linear.coef_)"
      ],
      "execution_count": null,
      "outputs": [
        {
          "output_type": "stream",
          "name": "stdout",
          "text": [
            "lasso best parameters: {'alpha': 4.0}\n",
            "lasso score: 0.6822148007932706\n",
            "linear score: 0.6821998239045917\n",
            "lasso MSE: 38028292260.30213\n",
            "linear MSE: 38030084494.494446\n",
            "lasso best estimator coef: [-9.70414639e-07 -3.57179371e+04  3.96043279e+04  2.93204822e+02\n",
            "  1.47417098e-01  6.30265977e+03  6.15380732e+05  5.09685665e+04\n",
            "  2.69749286e+04  9.70358345e+04 -1.04187189e+02 -1.39809951e+02\n",
            " -2.60893616e+03  2.21602364e+01 -6.01206384e+02  6.05480949e+05\n",
            " -2.23861413e+05  1.56613802e+01 -4.16655878e-01]\n",
            "linear coef: [-9.69459398e-07 -3.57220250e+04  3.96173093e+04  1.14129096e+02\n",
            "  1.47580423e-01  6.30716335e+03  6.15971841e+05  5.09475996e+04\n",
            "  2.69886606e+04  9.70254856e+04  7.48852255e+01  3.92438702e+01\n",
            " -2.60842916e+03  2.21577934e+01 -6.01764702e+02  6.05739763e+05\n",
            " -2.24223220e+05  1.56737027e+01 -4.16447365e-01]\n"
          ]
        }
      ]
    },
    {
      "cell_type": "markdown",
      "metadata": {
        "id": "1k3aeRbcPbd8"
      },
      "source": [
        "\n",
        "#Elastic Net Regression\n",
        "\n",
        "\n",
        "\n"
      ]
    },
    {
      "cell_type": "code",
      "metadata": {
        "colab": {
          "base_uri": "https://localhost:8080/"
        },
        "id": "HAdP-rAQPjRo",
        "outputId": "8b48a715-e971-49e3-d157-3a4046cad0af"
      },
      "source": [
        "# Creating our linear regression model for the purpose of comparison\n",
        "from sklearn.linear_model import ElasticNet\n",
        "\n",
        "regression=LinearRegression()\n",
        "regression.fit(x,y)\n",
        "first_model=(mean_squared_error(y_true=y,y_pred=regression.predict(x)))\n",
        "print(first_model)"
      ],
      "execution_count": null,
      "outputs": [
        {
          "output_type": "stream",
          "name": "stdout",
          "text": [
            "40501094629.69729\n"
          ]
        }
      ]
    },
    {
      "cell_type": "code",
      "metadata": {
        "id": "5urSuvniPpRt"
      },
      "source": [
        "# Below are the coefficients of this first model. We use a for loop to go through \n",
        "# the model and the zip function to combine the two columns.\n",
        "# \n",
        "coef_dict_baseline = {}\n",
        "for coef, feat in zip(regression.coef_,x.columns):\n",
        "    coef_dict_baseline[feat] = coef\n",
        "coef_dict_baseline"
      ],
      "execution_count": null,
      "outputs": []
    },
    {
      "cell_type": "code",
      "metadata": {
        "id": "qevzicd7PtB-"
      },
      "source": [
        "# Elastic Net Model\n",
        "# Elastic net, just like ridge and lasso regression, requires normalize data. \n",
        "# This argument  is set inside the ElasticNet function. \n",
        "# The second thing we need to do is create our grid.\n",
        "# \n",
        "elastic=ElasticNet(normalize=True)\n",
        "search=GridSearchCV(estimator=elastic,param_grid={'alpha':np.logspace(-5,2,8),'l1_ratio':[.2,.4,.6,.8]},scoring='neg_mean_squared_error',n_jobs=1,refit=True,cv=10)"
      ],
      "execution_count": null,
      "outputs": []
    },
    {
      "cell_type": "code",
      "metadata": {
        "colab": {
          "base_uri": "https://localhost:8080/"
        },
        "id": "kf2Doa6wPyk9",
        "outputId": "45b99875-6579-46ef-db5d-7968576bde9c"
      },
      "source": [
        "# We will now fit our model and display the best parameters and the best results we can get with that setup.\n",
        "# \n",
        "search.fit(x,y)\n",
        "search.best_params_\n",
        "abs(search.best_score_)"
      ],
      "execution_count": null,
      "outputs": [
        {
          "output_type": "execute_result",
          "data": {
            "text/plain": [
              "41045569418.13005"
            ]
          },
          "metadata": {},
          "execution_count": 63
        }
      ]
    },
    {
      "cell_type": "code",
      "metadata": {
        "colab": {
          "base_uri": "https://localhost:8080/"
        },
        "id": "pSyLXEdbP-N9",
        "outputId": "2ec0ed77-9f5f-41fa-84aa-ec4ec0985cbd"
      },
      "source": [
        "# For clarity, we will set our hyperparameters to the recommended values and run on the data.\n",
        "# \n",
        "elastic=ElasticNet(normalize=True,alpha=0.001,l1_ratio=0.75)\n",
        "elastic.fit(x,y)\n",
        "second_model=(mean_squared_error(y_true=y,y_pred=elastic.predict(x)))\n",
        "print(second_model)"
      ],
      "execution_count": null,
      "outputs": [
        {
          "output_type": "stream",
          "name": "stdout",
          "text": [
            "79376136539.57597\n"
          ]
        }
      ]
    },
    {
      "cell_type": "markdown",
      "metadata": {
        "id": "PbM8ZUaL7qm-"
      },
      "source": [
        "# **INSIGHTS FOR IMPROVEMENT**"
      ]
    },
    {
      "cell_type": "markdown",
      "metadata": {
        "id": "e04jHYhp7xTs"
      },
      "source": [
        "1. Plotting for Mulivariate regression proved to be a problem"
      ]
    }
  ]
}